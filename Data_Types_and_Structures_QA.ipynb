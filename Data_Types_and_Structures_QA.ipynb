{
 "cells": [
  {
   "cell_type": "markdown",
   "id": "e4f6048f",
   "metadata": {},
   "source": [
    "**Q:** 1. What are data structures, and why are they important?\n",
    "\n",
    "**A:**\n",
    "```python\n",
    "# Your answer here\n",
    "```"
   ]
  },
  {
   "cell_type": "markdown",
   "id": "9b244c50",
   "metadata": {},
   "source": [
    "**Q:** 2. Explain the difference between mutable and immutable data types with examples.\n",
    "\n",
    "**A:**\n",
    "```python\n",
    "# Your answer here\n",
    "```"
   ]
  },
  {
   "cell_type": "markdown",
   "id": "31aca10a",
   "metadata": {},
   "source": [
    "**Q:** 3. What are the main differences between lists and tuples in Python?\n",
    "\n",
    "**A:**\n",
    "```python\n",
    "# Your answer here\n",
    "```"
   ]
  },
  {
   "cell_type": "markdown",
   "id": "1414b729",
   "metadata": {},
   "source": [
    "**Q:** 4. Describe how dictionaries store data.\n",
    "\n",
    "**A:**\n",
    "```python\n",
    "# Your answer here\n",
    "```"
   ]
  },
  {
   "cell_type": "markdown",
   "id": "897f64a8",
   "metadata": {},
   "source": [
    "**Q:** 5. Why might you use a set instead of a list in Python?\n",
    "\n",
    "**A:**\n",
    "```python\n",
    "# Your answer here\n",
    "```"
   ]
  },
  {
   "cell_type": "markdown",
   "id": "292f78d7",
   "metadata": {},
   "source": [
    "**Q:** 6. What is a string in Python, and how is it different from a list?\n",
    "\n",
    "**A:**\n",
    "```python\n",
    "# Your answer here\n",
    "```"
   ]
  },
  {
   "cell_type": "markdown",
   "id": "6870bf7d",
   "metadata": {},
   "source": [
    "**Q:** 7. How do tuples ensure data integrity in Python?\n",
    "\n",
    "**A:**\n",
    "```python\n",
    "# Your answer here\n",
    "```"
   ]
  },
  {
   "cell_type": "markdown",
   "id": "ff82a1cf",
   "metadata": {},
   "source": [
    "**Q:** 8. What is a hash table, and how does it relate to dictionaries in Python?\n",
    "\n",
    "**A:**\n",
    "```python\n",
    "# Your answer here\n",
    "```"
   ]
  },
  {
   "cell_type": "markdown",
   "id": "e0f5a28d",
   "metadata": {},
   "source": [
    "**Q:** 9. Can lists contain different data types in Python?\n",
    "\n",
    "**A:**\n",
    "```python\n",
    "# Your answer here\n",
    "```"
   ]
  },
  {
   "cell_type": "markdown",
   "id": "6c4daec3",
   "metadata": {},
   "source": [
    "**Q:** 10. Explain why strings are immutable in Python.\n",
    "\n",
    "**A:**\n",
    "```python\n",
    "# Your answer here\n",
    "```"
   ]
  },
  {
   "cell_type": "markdown",
   "id": "2339d2bd",
   "metadata": {},
   "source": [
    "**Q:** 11. What advantages do dictionaries offer over lists for certain tasks?\n",
    "\n",
    "**A:**\n",
    "```python\n",
    "# Your answer here\n",
    "```"
   ]
  },
  {
   "cell_type": "markdown",
   "id": "82476c23",
   "metadata": {},
   "source": [
    "**Q:** 12. Describe a scenario where using a tuple would be preferable over a list.\n",
    "\n",
    "**A:**\n",
    "```python\n",
    "# Your answer here\n",
    "```"
   ]
  },
  {
   "cell_type": "markdown",
   "id": "2aff41d8",
   "metadata": {},
   "source": [
    "**Q:** 13. How do sets handle duplicate values in Python?\n",
    "\n",
    "**A:**\n",
    "```python\n",
    "# Your answer here\n",
    "```"
   ]
  },
  {
   "cell_type": "markdown",
   "id": "4fbe48da",
   "metadata": {},
   "source": [
    "**Q:** 14. How does the 'in' keyword work differently for lists and dictionaries?\n",
    "\n",
    "**A:**\n",
    "```python\n",
    "# Your answer here\n",
    "```"
   ]
  },
  {
   "cell_type": "markdown",
   "id": "71a793f3",
   "metadata": {},
   "source": [
    "**Q:** 15. Can you modify the elements of a tuple? Explain why or why not.\n",
    "\n",
    "**A:**\n",
    "```python\n",
    "# Your answer here\n",
    "```"
   ]
  },
  {
   "cell_type": "markdown",
   "id": "d853afce",
   "metadata": {},
   "source": [
    "**Q:** 16. What is a nested dictionary, and give an example of its use case.\n",
    "\n",
    "**A:**\n",
    "```python\n",
    "# Your answer here\n",
    "```"
   ]
  },
  {
   "cell_type": "markdown",
   "id": "e482d866",
   "metadata": {},
   "source": [
    "**Q:** 17. Describe the time complexity of accessing elements in a dictionary.\n",
    "\n",
    "**A:**\n",
    "```python\n",
    "# Your answer here\n",
    "```"
   ]
  },
  {
   "cell_type": "markdown",
   "id": "eccd8aad",
   "metadata": {},
   "source": [
    "**Q:** 18. In what situations are lists preferred over dictionaries?\n",
    "\n",
    "**A:**\n",
    "```python\n",
    "# Your answer here\n",
    "```"
   ]
  },
  {
   "cell_type": "markdown",
   "id": "f34a66f9",
   "metadata": {},
   "source": [
    "**Q:** 19. Why are dictionaries considered unordered, and how does that affect data retrieval?\n",
    "\n",
    "**A:**\n",
    "```python\n",
    "# Your answer here\n",
    "```"
   ]
  },
  {
   "cell_type": "markdown",
   "id": "f0628254",
   "metadata": {},
   "source": [
    "**Q:** 20. Explain the difference between a list and a dictionary in terms of data retrieval.\n",
    "\n",
    "**A:**\n",
    "```python\n",
    "# Your answer here\n",
    "```"
   ]
  },
  {
   "cell_type": "markdown",
   "id": "35556de6",
   "metadata": {},
   "source": [
    "**Q:** 21. Write a code to create a string with your name and print it.\n",
    "\n",
    "**A:**\n",
    "```python\n",
    "# Your answer here\n",
    "```"
   ]
  },
  {
   "cell_type": "markdown",
   "id": "0fbbe1b2",
   "metadata": {},
   "source": [
    "**Q:** 22. Write a code to find the length of the string 'Hello World'.\n",
    "\n",
    "**A:**\n",
    "```python\n",
    "# Your answer here\n",
    "```"
   ]
  },
  {
   "cell_type": "markdown",
   "id": "1d628546",
   "metadata": {},
   "source": [
    "**Q:** 23. Write a code to slice the first 3 characters from the string 'Python Programming'.\n",
    "\n",
    "**A:**\n",
    "```python\n",
    "# Your answer here\n",
    "```"
   ]
  },
  {
   "cell_type": "markdown",
   "id": "c0aaee34",
   "metadata": {},
   "source": [
    "**Q:** 24. Write a code to convert the string 'hello' to uppercase.\n",
    "\n",
    "**A:**\n",
    "```python\n",
    "# Your answer here\n",
    "```"
   ]
  },
  {
   "cell_type": "markdown",
   "id": "2cce672d",
   "metadata": {},
   "source": [
    "**Q:** 25. Write a code to replace the word 'apple' with 'orange' in the string 'I like apple'.\n",
    "\n",
    "**A:**\n",
    "```python\n",
    "# Your answer here\n",
    "```"
   ]
  },
  {
   "cell_type": "markdown",
   "id": "43bf945a",
   "metadata": {},
   "source": [
    "**Q:** 26. Write a code to create a list with numbers 1 to 5 and print it.\n",
    "\n",
    "**A:**\n",
    "```python\n",
    "# Your answer here\n",
    "```"
   ]
  },
  {
   "cell_type": "markdown",
   "id": "de713717",
   "metadata": {},
   "source": [
    "**Q:** 27. Write a code to append the number 10 to the list [1, 2, 3, 4].\n",
    "\n",
    "**A:**\n",
    "```python\n",
    "# Your answer here\n",
    "```"
   ]
  },
  {
   "cell_type": "markdown",
   "id": "a711b64e",
   "metadata": {},
   "source": [
    "**Q:** 28. Write a code to remove the number 3 from the list [1, 2, 3, 4, 5].\n",
    "\n",
    "**A:**\n",
    "```python\n",
    "# Your answer here\n",
    "```"
   ]
  },
  {
   "cell_type": "markdown",
   "id": "f4aed2d4",
   "metadata": {},
   "source": [
    "**Q:** 29. Write a code to access the second element in the list ['a', 'b', 'c', 'd'].\n",
    "\n",
    "**A:**\n",
    "```python\n",
    "# Your answer here\n",
    "```"
   ]
  },
  {
   "cell_type": "markdown",
   "id": "97fd6655",
   "metadata": {},
   "source": [
    "**Q:** 30. Write a code to reverse the list [10, 20, 30, 40, 50].\n",
    "\n",
    "**A:**\n",
    "```python\n",
    "# Your answer here\n",
    "```"
   ]
  },
  {
   "cell_type": "markdown",
   "id": "f5d9f7cc",
   "metadata": {},
   "source": [
    "**Q:** 31. Write a code to create a tuple with the elements 100, 200, 300 and print it.\n",
    "\n",
    "**A:**\n",
    "```python\n",
    "# Your answer here\n",
    "```"
   ]
  },
  {
   "cell_type": "markdown",
   "id": "dda0d274",
   "metadata": {},
   "source": [
    "**Q:** 32. Write a code to access the second-to-last element of the tuple ('red', 'green', 'blue', 'yellow').\n",
    "\n",
    "**A:**\n",
    "```python\n",
    "# Your answer here\n",
    "```"
   ]
  },
  {
   "cell_type": "markdown",
   "id": "1bbb8ba7",
   "metadata": {},
   "source": [
    "**Q:** 33. Write a code to find the minimum number in the tuple (10, 20, 5, 15).\n",
    "\n",
    "**A:**\n",
    "```python\n",
    "# Your answer here\n",
    "```"
   ]
  },
  {
   "cell_type": "markdown",
   "id": "e4db237d",
   "metadata": {},
   "source": [
    "**Q:** 34. Write a code to find the index of the element 'cat' in the tuple ('dog', 'cat', 'rabbit').\n",
    "\n",
    "**A:**\n",
    "```python\n",
    "# Your answer here\n",
    "```"
   ]
  },
  {
   "cell_type": "markdown",
   "id": "3974e921",
   "metadata": {},
   "source": [
    "**Q:** 35. Write a code to create a tuple containing three different fruits and check if 'kiwi' is in it.\n",
    "\n",
    "**A:**\n",
    "```python\n",
    "# Your answer here\n",
    "```"
   ]
  },
  {
   "cell_type": "markdown",
   "id": "298923b1",
   "metadata": {},
   "source": [
    "**Q:** 36. Write a code to create a set with the elements 'a', 'b', 'c' and print it.\n",
    "\n",
    "**A:**\n",
    "```python\n",
    "# Your answer here\n",
    "```"
   ]
  },
  {
   "cell_type": "markdown",
   "id": "226cb6a9",
   "metadata": {},
   "source": [
    "**Q:** 37. Write a code to clear all elements from the set {1, 2, 3, 4, 5}.\n",
    "\n",
    "**A:**\n",
    "```python\n",
    "# Your answer here\n",
    "```"
   ]
  },
  {
   "cell_type": "markdown",
   "id": "7e7e0025",
   "metadata": {},
   "source": [
    "**Q:** 38. Write a code to remove the element 4 from the set {1, 2, 3, 4}.\n",
    "\n",
    "**A:**\n",
    "```python\n",
    "# Your answer here\n",
    "```"
   ]
  },
  {
   "cell_type": "markdown",
   "id": "9007c9cc",
   "metadata": {},
   "source": [
    "**Q:** 39. Write a code to find the union of two sets {1, 2, 3} and {3, 4, 5}.\n",
    "\n",
    "**A:**\n",
    "```python\n",
    "# Your answer here\n",
    "```"
   ]
  },
  {
   "cell_type": "markdown",
   "id": "8d32d433",
   "metadata": {},
   "source": [
    "**Q:** 40. Write a code to find the intersection of two sets {1, 2, 3} and {2, 3, 4}.\n",
    "\n",
    "**A:**\n",
    "```python\n",
    "# Your answer here\n",
    "```"
   ]
  },
  {
   "cell_type": "markdown",
   "id": "ced7d902",
   "metadata": {},
   "source": [
    "**Q:** 41. Write a code to create a dictionary with the keys 'name', 'age', and 'city', and print it.\n",
    "\n",
    "**A:**\n",
    "```python\n",
    "# Your answer here\n",
    "```"
   ]
  },
  {
   "cell_type": "markdown",
   "id": "532b0036",
   "metadata": {},
   "source": [
    "**Q:** 42. Write a code to add a new key-value pair 'country': 'USA' to the dictionary {'name': 'John', 'age': 25}.\n",
    "\n",
    "**A:**\n",
    "```python\n",
    "# Your answer here\n",
    "```"
   ]
  },
  {
   "cell_type": "markdown",
   "id": "45f322e6",
   "metadata": {},
   "source": [
    "**Q:** 43. Write a code to access the value associated with the key 'name' in the dictionary {'name': 'Alice', 'age': 30}.\n",
    "\n",
    "**A:**\n",
    "```python\n",
    "# Your answer here\n",
    "```"
   ]
  },
  {
   "cell_type": "markdown",
   "id": "2b2301f7",
   "metadata": {},
   "source": [
    "**Q:** 44. Write a code to remove the key 'age' from the dictionary {'name': 'Bob', 'age': 22, 'city': 'New York'}.\n",
    "\n",
    "**A:**\n",
    "```python\n",
    "# Your answer here\n",
    "```"
   ]
  },
  {
   "cell_type": "markdown",
   "id": "83fe5df7",
   "metadata": {},
   "source": [
    "**Q:** 45. Write a code to check if the key 'city' exists in the dictionary {'name': 'Alice', 'city': 'Paris'}.\n",
    "\n",
    "**A:**\n",
    "```python\n",
    "# Your answer here\n",
    "```"
   ]
  },
  {
   "cell_type": "markdown",
   "id": "e4d95e5b",
   "metadata": {},
   "source": [
    "**Q:** 46. Write a code to create a list, a tuple, and a dictionary, and print them all.\n",
    "\n",
    "**A:**\n",
    "```python\n",
    "# Your answer here\n",
    "```"
   ]
  },
  {
   "cell_type": "markdown",
   "id": "0b33a412",
   "metadata": {},
   "source": [
    "**Q:** 47. Write a code to create a list of 5 random numbers between 1 and 100, sort it in ascending order, and print the result.\n",
    "\n",
    "**A:**\n",
    "```python\n",
    "# Your answer here\n",
    "```"
   ]
  },
  {
   "cell_type": "markdown",
   "id": "3fbb198f",
   "metadata": {},
   "source": [
    "**Q:** 48. Write a code to create a list with strings and print the element at the third index.\n",
    "\n",
    "**A:**\n",
    "```python\n",
    "# Your answer here\n",
    "```"
   ]
  },
  {
   "cell_type": "markdown",
   "id": "cd3a43d1",
   "metadata": {},
   "source": [
    "**Q:** 49. Write a code to combine two dictionaries into one and print the result.\n",
    "\n",
    "**A:**\n",
    "```python\n",
    "# Your answer here\n",
    "```"
   ]
  },
  {
   "cell_type": "markdown",
   "id": "7dad8856",
   "metadata": {},
   "source": [
    "**Q:** 50. Write a code to convert a list of strings into a set.\n",
    "\n",
    "**A:**\n",
    "```python\n",
    "# Your answer here\n",
    "```"
   ]
  }
 ],
 "metadata": {},
 "nbformat": 4,
 "nbformat_minor": 5
}