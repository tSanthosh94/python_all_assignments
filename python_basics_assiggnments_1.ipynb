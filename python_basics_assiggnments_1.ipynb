{
  "nbformat": 4,
  "nbformat_minor": 0,
  "metadata": {
    "colab": {
      "provenance": []
    },
    "kernelspec": {
      "name": "python3",
      "display_name": "Python 3"
    },
    "language_info": {
      "name": "python"
    }
  },
  "cells": [
    {
      "cell_type": "code",
      "execution_count": null,
      "metadata": {
        "id": "uqG3EIwzOIqx"
      },
      "outputs": [],
      "source": []
    },
    {
      "cell_type": "markdown",
      "source": [
        "\n",
        "**Python Basics Questions**\n",
        "\n",
        "\n",
        "1. What is Python, and why is it popular?\n",
        "\n",
        "  - Python is a high-level, interpreted programming language known for its simple syntax and readability. It is popular because:\n",
        "\n",
        "  - It’s beginner-friendly and large standard library.\n",
        "  - widely used in web development, data science, AI, automation, and more.\n",
        "\n",
        "2. What is an interpreter in Python?\n",
        "\n",
        "  - An interpreter is a program that executes Python code line by line, converting it into machine code at runtime. Python uses an interpreter rather than a compiler.\n",
        "\n",
        "3. What are pre-defined keywords in Python?\n",
        "\n",
        "  - Pre-defined keywords are reserved words that have special meaning in Python, such as if, for, while, True, def, async, await\n",
        "\n",
        "4. Can keywords be used as variable names?\n",
        "\n",
        " - No, keywords cannot be used as variable names because they are reserved for specific functions in the language.\n",
        "\n",
        "5. What is mutability in Python?\n",
        "\n",
        "  - Mutability refers to whether an object’s value can be changed after it is created.\n",
        "\n",
        "  - Mutable objects can be changed (e.g., lists).\n",
        "\n",
        "  - Immutable objects cannot be changed (e.g., strings, tuples).\n",
        "\n",
        "6. Why are lists mutable, but tuples are immutable?\n",
        "\n",
        "  - Lists are designed to store dynamic data, allowing changes like adding or removing elements. where Tuples are used for fixed collections of items\n",
        "\n",
        "7. What is the difference between == and is operators in Python?\n",
        "\n",
        "    - == checks if values are equal.\n",
        "\n",
        "    - is checks if two variables point to the same object in memory.\n",
        "\n",
        "8. What are logical operators in Python?\n",
        "\n",
        "  - Logical operators combine multiple conditions:\n",
        "\n",
        "      - and – True if both conditions are True\n",
        "\n",
        "      - or – True if at least one condition is True\n",
        "\n",
        "      - not – Reverses the logical state\n",
        "\n",
        "9. What is type casting in Python?\n",
        "\n",
        "     - Type casting means converting a variable from one data type to another, such as converting a string to an integer using int(\"5\")\n",
        "\n",
        "10. What is the difference between implicit and explicit type casting?\n",
        "\n",
        "    - Implicit: Python automatically converts data types during operations.\n",
        "\n",
        "      x = 5 + 3.2  # int + float = float\n",
        "\n",
        "    - Explicit: You manually convert using functions like int(), float(), str().\n",
        "\n",
        "      y = int(\"10\")\n",
        "\n",
        "11. What is the purpose of conditional statements in Python?\n",
        "\n",
        "  - Conditional statements like if, elif, and else allow your program to make decisions and execute different code based on certain conditions.\n",
        "\n",
        "12. How does the elif statement work?\n",
        "\n",
        "  - elif (short for else if) checks additional conditions if the previous if statement was false. It helps handle multiple conditions.\n",
        "\n",
        "    x = 10\n",
        "    y = 5\n",
        "    if x < 5:\n",
        "        print(f\"{y} is lesser than {x}\")\n",
        "    elif x == y:\n",
        "        print(f\"{y} is equals to {x}\")\n",
        "    else:\n",
        "        print(f\"{x} is grater than {x}\")\n",
        "\n",
        "13. What is the difference between for and while loops?\n",
        "\n",
        "    - for loop: Iterates over a sequence with in th eparticulat ranfe(size of the object)\n",
        "\n",
        "    - while loop: Runs as long as a condition is True(till satify the condition)\n",
        "\n",
        "    for i in range(5):  # known iterations\n",
        "    print(i)\n",
        "    x = 10\n",
        "    while x= 100:    # unknown iterations\n",
        "      x=int(input('enter value'))\n",
        "\n",
        "14. Describe a scenario where a while loop is more suitable than a for loop\n",
        "\n",
        "  - A while loop is better when the number of iterations is not known in advance, such as waiting for user input or retrying until a task succeeds.\n",
        "\n",
        "    x = 10\n",
        "    while x= 100:    # unknown iterations\n",
        "      x=int(input('enter value'))\n",
        "\n",
        "\n"
      ],
      "metadata": {
        "id": "k2y0_qlvOJ4T"
      }
    },
    {
      "cell_type": "markdown",
      "source": [
        "**Practical Questions**"
      ],
      "metadata": {
        "id": "nNv3w6XqU7QI"
      }
    },
    {
      "cell_type": "code",
      "source": [
        "# 1. Write a Python program to print \"Hello, World!y\n",
        "print(\"Hello, World!\")"
      ],
      "metadata": {
        "colab": {
          "base_uri": "https://localhost:8080/"
        },
        "collapsed": true,
        "id": "0O1XRRbTUCMA",
        "outputId": "2d70cddf-3082-4e3b-9bb2-b14bc5551dea"
      },
      "execution_count": 3,
      "outputs": [
        {
          "output_type": "stream",
          "name": "stdout",
          "text": [
            "Hello, World!\n"
          ]
        }
      ]
    },
    {
      "cell_type": "code",
      "source": [
        "# 2. Write a Python program that displays your name and age8\n",
        "name = \"John Smith\"\n",
        "age = 25\n",
        "print(\"Name:\", name)\n",
        "print(\"Age:\", age)\n"
      ],
      "metadata": {
        "colab": {
          "base_uri": "https://localhost:8080/"
        },
        "id": "RAjqlZArUQb7",
        "outputId": "412c95f4-2c04-4fce-b757-8c21734f6d73"
      },
      "execution_count": 4,
      "outputs": [
        {
          "output_type": "stream",
          "name": "stdout",
          "text": [
            "Name: John Smith\n",
            "Age: 25\n"
          ]
        }
      ]
    },
    {
      "cell_type": "code",
      "source": [
        "# 3.  Write code to print all the pre-defined keywords in Python using the keyword library8\n",
        "import keyword\n",
        "print(\"Python Keywords:\")\n",
        "print(keyword.kwlist)"
      ],
      "metadata": {
        "colab": {
          "base_uri": "https://localhost:8080/"
        },
        "id": "zdWPLPA_UrfE",
        "outputId": "7ce70079-5d37-49e4-f5ef-fae65cf3e3c1"
      },
      "execution_count": 5,
      "outputs": [
        {
          "output_type": "stream",
          "name": "stdout",
          "text": [
            "Python Keywords:\n",
            "['False', 'None', 'True', 'and', 'as', 'assert', 'async', 'await', 'break', 'class', 'continue', 'def', 'del', 'elif', 'else', 'except', 'finally', 'for', 'from', 'global', 'if', 'import', 'in', 'is', 'lambda', 'nonlocal', 'not', 'or', 'pass', 'raise', 'return', 'try', 'while', 'with', 'yield']\n"
          ]
        }
      ]
    },
    {
      "cell_type": "code",
      "source": [
        "# 4.  Write a program that checks if a given word is a Python keyword.\n",
        "import keyword\n",
        "\n",
        "word = input(\"Enter a word: \")\n",
        "if keyword.iskeyword(word):\n",
        "    print(f\"'{word}' is a Python keyword.\")\n",
        "else:\n",
        "    print(f\"'{word}' is not a Python keyword.\")"
      ],
      "metadata": {
        "colab": {
          "base_uri": "https://localhost:8080/"
        },
        "id": "gq91ao3LVCoX",
        "outputId": "354a4313-3f98-4c30-da43-fd6e6dae12a0"
      },
      "execution_count": 6,
      "outputs": [
        {
          "output_type": "stream",
          "name": "stdout",
          "text": [
            "Enter a word: def\n",
            "'def' is a Python keyword.\n"
          ]
        }
      ]
    },
    {
      "cell_type": "code",
      "source": [
        "# 5. Create a list and tuple in Python, and demonstrate how attempting to change an element works differently\n",
        "# for each.\n",
        "my_list = [1, 2, 3]\n",
        "my_tuple = (1, 2, 3)\n",
        "\n",
        "# List: mutable\n",
        "my_list[0] = 100\n",
        "print(\"Modified list:\", my_list)\n",
        "\n",
        "# Tuple: immutable (will raise error)\n",
        "try:\n",
        "    my_tuple[0] = 100\n",
        "except TypeError as e:\n",
        "    print(\"Error modifying tuple:\", e)"
      ],
      "metadata": {
        "colab": {
          "base_uri": "https://localhost:8080/"
        },
        "id": "cBgJ2KBAVB2k",
        "outputId": "578a0e80-1bb6-40ec-df11-784c6182ecf5"
      },
      "execution_count": 10,
      "outputs": [
        {
          "output_type": "stream",
          "name": "stdout",
          "text": [
            "Modified list: [100, 2, 3]\n",
            "Error modifying tuple: 'tuple' object does not support item assignment\n"
          ]
        }
      ]
    },
    {
      "cell_type": "code",
      "source": [
        "# 6.  Write a function to demonstrate the behavior of mutable and immutable arguments.\n",
        "def modify_list(my_list):\n",
        "    my_list.append(100)\n",
        "\n",
        "def modify_int(my_int):\n",
        "    my_int += 10\n",
        "    return my_int\n",
        "\n",
        "lst = [1, 2, 3]\n",
        "num = 5\n",
        "\n",
        "modify_list(lst)\n",
        "print(\"Modified list (mutable):\", lst)\n",
        "\n",
        "modified_num = modify_int(num)\n",
        "print(\"Original int (immutable):\", num)\n",
        "print(\"Returned int:\", modified_num)"
      ],
      "metadata": {
        "colab": {
          "base_uri": "https://localhost:8080/"
        },
        "id": "lbDEidfwVCcC",
        "outputId": "4dfcec14-18b9-4065-f358-034e6eefe4f3"
      },
      "execution_count": 7,
      "outputs": [
        {
          "output_type": "stream",
          "name": "stdout",
          "text": [
            "Modified list (mutable): [1, 2, 3, 100]\n",
            "Original int (immutable): 5\n",
            "Returned int: 15\n"
          ]
        }
      ]
    },
    {
      "cell_type": "code",
      "source": [
        "# 7. Write a program that performs basic arithmetic operations on two user-input numbers.\n",
        "a = float(input(\"Enter first number: \"))\n",
        "b = float(input(\"Enter second number: \"))\n",
        "\n",
        "print(\"Addition:\", a + b)\n",
        "print(\"Subtraction:\", a - b)\n",
        "print(\"Multiplication:\", a * b)\n",
        "print(\"Division:\", a / b if b != 0 else \"Cannot divide by zero\")"
      ],
      "metadata": {
        "colab": {
          "base_uri": "https://localhost:8080/"
        },
        "id": "1-WAREOjVCPn",
        "outputId": "5a17e91d-282c-4362-8af1-9686ba4444a7"
      },
      "execution_count": 8,
      "outputs": [
        {
          "output_type": "stream",
          "name": "stdout",
          "text": [
            "Enter first number: 10\n",
            "Enter second number: 20\n",
            "Addition: 30.0\n",
            "Subtraction: -10.0\n",
            "Multiplication: 200.0\n",
            "Division: 0.5\n"
          ]
        }
      ]
    },
    {
      "cell_type": "code",
      "source": [
        "# 8. Write a program to demonstrate the use of logical operators.\n",
        "a = int(input(\"Enter a number: \"))\n",
        "\n",
        "if a > 0 and a < 100:\n",
        "    print(\"Number is between 1 and 99\")\n",
        "if a < 0 or a > 100:\n",
        "    print(\"Number is out of range\")\n",
        "if not a == 50:\n",
        "    print(\"Number is not 50\")"
      ],
      "metadata": {
        "colab": {
          "base_uri": "https://localhost:8080/"
        },
        "id": "e7ERwnprVCDN",
        "outputId": "b161e9b0-83d6-4f85-bc90-472bcee7ee27"
      },
      "execution_count": 9,
      "outputs": [
        {
          "output_type": "stream",
          "name": "stdout",
          "text": [
            "Enter a number: 5\n",
            "Number is between 1 and 99\n",
            "Number is not 50\n"
          ]
        }
      ]
    },
    {
      "cell_type": "code",
      "source": [
        "# 9. Write a Python program to convert user input from string to integer, float, and boolean types.\n",
        "\n",
        "value = input(\"Enter a value: \")\n",
        "\n",
        "int_value = int(value)\n",
        "float_value = float(value)\n",
        "bool_value = bool(value)\n",
        "\n",
        "print(\"Integer:\", int_value)\n",
        "print(\"Float:\", float_value)\n",
        "print(\"Boolean:\", bool_value)"
      ],
      "metadata": {
        "colab": {
          "base_uri": "https://localhost:8080/"
        },
        "id": "97vhuRarVBpP",
        "outputId": "e3410b37-1c40-4bd3-f5d5-7e47e1aedafb"
      },
      "execution_count": 11,
      "outputs": [
        {
          "output_type": "stream",
          "name": "stdout",
          "text": [
            "Enter a value: 10\n",
            "Integer: 10\n",
            "Float: 10.0\n",
            "Boolean: True\n"
          ]
        }
      ]
    },
    {
      "cell_type": "code",
      "source": [
        "# 10. Write code to demonstrate type casting with list elements.\n",
        "str_list = ['1', '2', '3']\n",
        "int_list = [int(x) for x in str_list]\n",
        "\n",
        "print(\"Original list:\", str_list)\n",
        "print(\"After type casting:\", int_list)"
      ],
      "metadata": {
        "colab": {
          "base_uri": "https://localhost:8080/"
        },
        "id": "CxoHXr0lVBaZ",
        "outputId": "b562b21d-d0b4-4202-96b2-51470e644869"
      },
      "execution_count": 12,
      "outputs": [
        {
          "output_type": "stream",
          "name": "stdout",
          "text": [
            "Original list: ['1', '2', '3']\n",
            "After type casting: [1, 2, 3]\n"
          ]
        }
      ]
    },
    {
      "cell_type": "code",
      "source": [
        "# 11.  Write a program that checks if a number is positive, negative, or zero\n",
        "num = float(input(\"Enter a number: \"))\n",
        "\n",
        "if num > 0:\n",
        "    print(\"Positive number\")\n",
        "elif num < 0:\n",
        "    print(\"Negative number\")\n",
        "else:\n",
        "    print(\"Zero\")"
      ],
      "metadata": {
        "colab": {
          "base_uri": "https://localhost:8080/"
        },
        "id": "Bg6ljREaV39J",
        "outputId": "a637f2c8-10ec-4445-bc7f-fc849716bb2b"
      },
      "execution_count": 13,
      "outputs": [
        {
          "output_type": "stream",
          "name": "stdout",
          "text": [
            "Enter a number: -6\n",
            "Negative number\n"
          ]
        }
      ]
    },
    {
      "cell_type": "code",
      "source": [
        "# 12. Write a for loop to print numbers from 1 to 10.\n",
        "for i in range(1, 11):\n",
        "    print(i)"
      ],
      "metadata": {
        "colab": {
          "base_uri": "https://localhost:8080/"
        },
        "id": "HZFa8PmkV3vC",
        "outputId": "92ad5e93-7d13-4b65-a08e-191a4e50cafd"
      },
      "execution_count": 14,
      "outputs": [
        {
          "output_type": "stream",
          "name": "stdout",
          "text": [
            "1\n",
            "2\n",
            "3\n",
            "4\n",
            "5\n",
            "6\n",
            "7\n",
            "8\n",
            "9\n",
            "10\n"
          ]
        }
      ]
    },
    {
      "cell_type": "code",
      "source": [
        "# 13.  Write a Python program to find the sum of all even numbers between 1 and 50\n",
        "total = 0\n",
        "for i in range(2, 51, 2):\n",
        "    total += i\n",
        "print(\"Sum of even numbers between 1 and 50:\", total)"
      ],
      "metadata": {
        "colab": {
          "base_uri": "https://localhost:8080/"
        },
        "id": "Qqi2xMnTWUeM",
        "outputId": "84b49e78-4e19-4b18-ca18-24b72ecd07b3"
      },
      "execution_count": 15,
      "outputs": [
        {
          "output_type": "stream",
          "name": "stdout",
          "text": [
            "Sum of even numbers between 1 and 50: 650\n"
          ]
        }
      ]
    },
    {
      "cell_type": "code",
      "source": [
        "# 14. Write a program to reverse a string using a while loop.\n",
        "s = input(\"Enter a string: \")\n",
        "reversed_str = \"\"\n",
        "i = len(s) - 1\n",
        "\n",
        "while i >= 0:\n",
        "    reversed_str += s[i]\n",
        "    i -= 1\n",
        "\n",
        "print(\"Reversed string:\", reversed_str)"
      ],
      "metadata": {
        "colab": {
          "base_uri": "https://localhost:8080/"
        },
        "id": "gfi7MdR7WY3l",
        "outputId": "c9025aba-701e-416e-d401-1cb350f749d1"
      },
      "execution_count": 16,
      "outputs": [
        {
          "output_type": "stream",
          "name": "stdout",
          "text": [
            "Enter a string: hello world\n",
            "Reversed string: dlrow olleh\n"
          ]
        }
      ]
    },
    {
      "cell_type": "code",
      "source": [
        "# 15. Write a Python program to calculate the factorial of a number provided by the user using a while loop.\n",
        "num = int(input(\"Enter a number: \"))\n",
        "factorial = 1\n",
        "i = 1\n",
        "\n",
        "while i <= num:\n",
        "    factorial *= i\n",
        "    i += 1\n",
        "\n",
        "print(f\"Factorial of {num} is {factorial}\")"
      ],
      "metadata": {
        "colab": {
          "base_uri": "https://localhost:8080/"
        },
        "id": "SnWUqLQ3WdEJ",
        "outputId": "c3d0d9fe-6540-41f6-b2cb-8f5bf5f97ee6"
      },
      "execution_count": 17,
      "outputs": [
        {
          "output_type": "stream",
          "name": "stdout",
          "text": [
            "Enter a number: 5\n",
            "Factorial of 5 is 120\n"
          ]
        }
      ]
    }
  ]
}